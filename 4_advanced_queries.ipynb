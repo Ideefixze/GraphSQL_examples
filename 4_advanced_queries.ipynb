{
    "metadata": {
        "kernelspec": {
            "name": "SQL",
            "display_name": "SQL",
            "language": "sql"
        },
        "language_info": {
            "name": "sql",
            "version": ""
        }
    },
    "nbformat_minor": 2,
    "nbformat": 4,
    "cells": [
        {
            "cell_type": "markdown",
            "source": [
                "Rozważmy teraz przykłady w których chcemy wyciągnąć dane o ścieżkach dowolnej długości."
            ],
            "metadata": {
                "azdata_cell_guid": "0fff1dde-ef15-404e-b318-070da906c1f7"
            },
            "attachments": {}
        },
        {
            "cell_type": "code",
            "source": [
                "USE graphdemo\r\n",
                "GO"
            ],
            "metadata": {
                "azdata_cell_guid": "9faac932-64f0-4d45-8054-d74dd38d5e9c",
                "language": "sql"
            },
            "outputs": [
                {
                    "output_type": "display_data",
                    "data": {
                        "text/html": "Commands completed successfully."
                    },
                    "metadata": {}
                },
                {
                    "output_type": "display_data",
                    "data": {
                        "text/html": "Total execution time: 00:00:00.016"
                    },
                    "metadata": {}
                }
            ],
            "execution_count": 1
        },
        {
            "cell_type": "markdown",
            "source": [
                "Rozpocznijmy od zwykłego zapytania grafowego"
            ],
            "metadata": {
                "language": "sql",
                "azdata_cell_guid": "6a06adc2-124e-4a0f-a42c-854e47a772f9"
            },
            "attachments": {}
        },
        {
            "cell_type": "code",
            "source": [
                "SELECT man1.name, man2.name\r\n",
                "FROM Person man1, friendOf, Person man2\r\n",
                "WHERE MATCH(man1-(friendOf)->man2)\r\n",
                "AND man1.name = 'John'"
            ],
            "metadata": {
                "language": "sql",
                "azdata_cell_guid": "a3503c79-8fc1-4573-a3c5-4711637d3036",
                "tags": []
            },
            "outputs": [
                {
                    "output_type": "display_data",
                    "data": {
                        "text/html": "(1 row affected)"
                    },
                    "metadata": {}
                },
                {
                    "output_type": "display_data",
                    "data": {
                        "text/html": "Total execution time: 00:00:00.072"
                    },
                    "metadata": {}
                },
                {
                    "output_type": "execute_result",
                    "execution_count": 22,
                    "data": {
                        "application/vnd.dataresource+json": {
                            "schema": {
                                "fields": [
                                    {
                                        "name": "name"
                                    },
                                    {
                                        "name": "name"
                                    }
                                ]
                            },
                            "data": [
                                {
                                    "name": "Mary"
                                }
                            ]
                        },
                        "text/html": "<table><tr><th>name</th><th>name</th></tr><tr><td>John</td><td>Mary</td></tr></table>"
                    },
                    "metadata": {}
                }
            ],
            "execution_count": 22
        },
        {
            "cell_type": "markdown",
            "source": [
                "Chcielibyśmy teraz powielić dowolnie ilość krawędzi na ścieżce do wierzchołka końcowego, tak aby zapytanie reprezentowało ścieżkę dowolnej długości.\n",
                "\n",
                "Pierwsze (intuicyjne) podejście: dodanie operatora plusa..."
            ],
            "metadata": {
                "language": "sql",
                "azdata_cell_guid": "f3215137-8bc5-4edf-a134-dfc7a7371ad2"
            },
            "attachments": {}
        },
        {
            "cell_type": "code",
            "source": [
                "SELECT man1.name, man2.name\r\n",
                "FROM Person man1, friendOf, Person man2\r\n",
                "WHERE MATCH(man1(-(friendOf)->man2)+)\r\n",
                "AND man1.name = 'John'"
            ],
            "metadata": {
                "language": "sql",
                "azdata_cell_guid": "9fc26120-0a46-4080-a07c-933c404b7fb7"
            },
            "outputs": [
                {
                    "output_type": "error",
                    "ename": "",
                    "evalue": "Msg 102, Level 15, State 1, Line 3\r\nIncorrect syntax near '('.",
                    "traceback": []
                },
                {
                    "output_type": "display_data",
                    "data": {
                        "text/html": "Total execution time: 00:00:00.002"
                    },
                    "metadata": {}
                }
            ],
            "execution_count": 23
        },
        {
            "cell_type": "markdown",
            "source": [
                "...nie zadziała. Wzorce zmiennej długości muszą być dodatkowo otoczone funkcją SHORTEST\\_PATH..."
            ],
            "metadata": {
                "language": "sql",
                "azdata_cell_guid": "755228bd-eb39-4e9a-b064-8ec09799bdbc"
            },
            "attachments": {}
        },
        {
            "cell_type": "code",
            "source": [
                "SELECT man1.name, man2.name\r\n",
                "FROM Person man1, friendOf, Person man2\r\n",
                "WHERE MATCH(SHORTEST_PATH(man1(-(friendOf)->man2)+))\r\n",
                "AND man1.name = 'John'"
            ],
            "metadata": {
                "language": "sql",
                "azdata_cell_guid": "aca26375-1fb0-45c2-bd12-a21132a844e9"
            },
            "outputs": [
                {
                    "output_type": "error",
                    "ename": "",
                    "evalue": "Msg 13948, Level 16, State 1, Line 1\r\nThe table name or alias 'friendOf' must be marked as FOR PATH to be used in the recursive section of a SHORTEST_PATH clause.",
                    "traceback": []
                },
                {
                    "output_type": "error",
                    "ename": "",
                    "evalue": "Msg 13948, Level 16, State 1, Line 1\r\nThe table name or alias 'man2' must be marked as FOR PATH to be used in the recursive section of a SHORTEST_PATH clause.",
                    "traceback": []
                },
                {
                    "output_type": "display_data",
                    "data": {
                        "text/html": "Total execution time: 00:00:00.012"
                    },
                    "metadata": {}
                }
            ],
            "execution_count": 4
        },
        {
            "cell_type": "markdown",
            "source": [
                "...a tabele wzięte do części rekurencyjnej wzorca muszą być oznaczone słowami kluczowymi `FOR PATH`"
            ],
            "metadata": {
                "language": "sql",
                "azdata_cell_guid": "4eb415ef-4d7f-45dc-aaa8-97fe0ea090e7"
            },
            "attachments": {}
        },
        {
            "cell_type": "code",
            "source": [
                "SELECT man1.name, man2.name\r\n",
                "FROM Person            AS man1\r\n",
                "   , friendOf FOR PATH AS fo\r\n",
                "   , Person   FOR PATH AS man2\r\n",
                "WHERE MATCH(SHORTEST_PATH(man1(-(fo)->man2)+))\r\n",
                "AND man1.name = 'John'"
            ],
            "metadata": {
                "language": "sql",
                "azdata_cell_guid": "46123616-7804-4a92-a5fc-a50460537876"
            },
            "outputs": [
                {
                    "output_type": "error",
                    "ename": "",
                    "evalue": "Msg 13961, Level 16, State 1, Line 1\r\nThe alias or identifier 'man2.name' cannot be used in the select list, order by, group by, or having context.",
                    "traceback": []
                },
                {
                    "output_type": "display_data",
                    "data": {
                        "text/html": "Total execution time: 00:00:00.053"
                    },
                    "metadata": {}
                }
            ],
            "execution_count": 5
        },
        {
            "cell_type": "markdown",
            "source": [
                "Na razie pomińmy również `man2.name` i zobaczmy wynik zapytania."
            ],
            "metadata": {
                "language": "sql",
                "azdata_cell_guid": "fda5f186-f8fb-4c02-868f-2bef9e59a90f"
            },
            "attachments": {}
        },
        {
            "cell_type": "code",
            "source": [
                "SELECT man1.name\r\n",
                "FROM Person AS man1\r\n",
                "   , friendOf FOR PATH AS fo\r\n",
                "   , Person FOR PATH AS man2\r\n",
                "WHERE MATCH(SHORTEST_PATH(man1(-(fo)->man2)+))\r\n",
                "AND man1.name = 'John'"
            ],
            "metadata": {
                "language": "sql",
                "azdata_cell_guid": "b65959d6-436e-425b-99a9-b5e4c374f24f"
            },
            "outputs": [
                {
                    "output_type": "display_data",
                    "data": {
                        "text/html": "(3 rows affected)"
                    },
                    "metadata": {}
                },
                {
                    "output_type": "display_data",
                    "data": {
                        "text/html": "Total execution time: 00:00:00.043"
                    },
                    "metadata": {}
                },
                {
                    "output_type": "execute_result",
                    "execution_count": 7,
                    "data": {
                        "application/vnd.dataresource+json": {
                            "schema": {
                                "fields": [
                                    {
                                        "name": "name"
                                    }
                                ]
                            },
                            "data": [
                                {
                                    "name": "John"
                                },
                                {
                                    "name": "John"
                                },
                                {
                                    "name": "John"
                                }
                            ]
                        },
                        "text/html": "<table><tr><th>name</th></tr><tr><td>John</td></tr><tr><td>John</td></tr><tr><td>John</td></tr></table>"
                    },
                    "metadata": {}
                }
            ],
            "execution_count": 7
        },
        {
            "cell_type": "markdown",
            "source": [
                "Otrzymujemy w wyniku trzy rekordy. Odpowiadają one ścieżkom rozpoczynającym się od węzła \"John\" i kończącym w innych węzłach, w tym przypadku z tabeli Person. W sekcji SELECT nie można bezpośrednio odwołać się do tabel ze ścieżki, gdyż mogą się one potencjalnie odwoływać do wielu rekordów na ścieżce. Z tego też powodu rekordy FOR PATH są zbierane do grup, do których należy zaaplikować odpowiednie funkcje agregacji (STRING_AGG, LAST_VALUE, COUNT, SUM, AVG, MIN, MAX), po których musi nastąpić wyrażenie \"WITHIN GROUP (GRAPH PATH)\""
            ],
            "metadata": {
                "language": "sql",
                "azdata_cell_guid": "919e7844-c540-4710-962c-7d110a4f8c67"
            },
            "attachments": {}
        },
        {
            "cell_type": "code",
            "source": [
                "SELECT man1.name                                              AS FirstNode\r\n",
                "     , LAST_VALUE(man2.name)        WITHIN GROUP (GRAPH PATH) AS LastNode\r\n",
                "     , STRING_AGG(man2.name, '->')  WITHIN GROUP (GRAPH PATH) AS Path\r\n",
                "     , COUNT(man2.name)             WITHIN GROUP (GRAPH PATH) AS PathLength\r\n",
                "     , SUM(fo.relationshipStrength) WITHIN GROUP (GRAPH PATH) AS RelationshipStrengthDistance\r\n",
                "     , AVG(fo.relationshipStrength) WITHIN GROUP (GRAPH PATH) AS AverageRelationshipStrength\r\n",
                "     , MIN(fo.relationshipStrength) WITHIN GROUP (GRAPH PATH) AS MinimumRelationshipStrength\r\n",
                "     , MAX(fo.relationshipStrength) WITHIN GROUP (GRAPH PATH) AS MaximumRelationshipStrength\r\n",
                "FROM Person            AS man1\r\n",
                "   , friendOf FOR PATH AS fo\r\n",
                "   , Person   FOR PATH AS man2\r\n",
                "WHERE MATCH(SHORTEST_PATH(man1(-(fo)->man2)+))\r\n",
                "AND man1.name = 'John'"
            ],
            "metadata": {
                "language": "sql",
                "azdata_cell_guid": "25a739e4-dc9f-404b-906f-2d603e2ded0c"
            },
            "outputs": [
                {
                    "output_type": "display_data",
                    "data": {
                        "text/html": "(3 rows affected)"
                    },
                    "metadata": {}
                },
                {
                    "output_type": "display_data",
                    "data": {
                        "text/html": "Total execution time: 00:00:00.075"
                    },
                    "metadata": {}
                },
                {
                    "output_type": "execute_result",
                    "execution_count": 8,
                    "data": {
                        "application/vnd.dataresource+json": {
                            "schema": {
                                "fields": [
                                    {
                                        "name": "FirstNode"
                                    },
                                    {
                                        "name": "LastNode"
                                    },
                                    {
                                        "name": "Path"
                                    },
                                    {
                                        "name": "PathLength"
                                    },
                                    {
                                        "name": "RelationshipStrengthDistance"
                                    },
                                    {
                                        "name": "AverageRelationshipStrength"
                                    },
                                    {
                                        "name": "MinimumRelationshipStrength"
                                    },
                                    {
                                        "name": "MaximumRelationshipStrength"
                                    }
                                ]
                            },
                            "data": [
                                {
                                    "FirstNode": "John",
                                    "LastNode": "Mary",
                                    "Path": "Mary",
                                    "PathLength": "1",
                                    "RelationshipStrengthDistance": "1,100000023841858",
                                    "AverageRelationshipStrength": "1,100000023841858",
                                    "MinimumRelationshipStrength": "1,1",
                                    "MaximumRelationshipStrength": "1,1"
                                },
                                {
                                    "FirstNode": "John",
                                    "LastNode": "Alice",
                                    "Path": "Mary->Alice",
                                    "PathLength": "2",
                                    "RelationshipStrengthDistance": "3,600000023841858",
                                    "AverageRelationshipStrength": "1,800000011920929",
                                    "MinimumRelationshipStrength": "1,1",
                                    "MaximumRelationshipStrength": "2,5"
                                },
                                {
                                    "FirstNode": "John",
                                    "LastNode": "John",
                                    "Path": "Mary->Alice->John",
                                    "PathLength": "3",
                                    "RelationshipStrengthDistance": "3,900000035762787",
                                    "AverageRelationshipStrength": "1,300000011920929",
                                    "MinimumRelationshipStrength": "0,3",
                                    "MaximumRelationshipStrength": "2,5"
                                }
                            ]
                        },
                        "text/html": "<table><tr><th>FirstNode</th><th>LastNode</th><th>Path</th><th>PathLength</th><th>RelationshipStrengthDistance</th><th>AverageRelationshipStrength</th><th>MinimumRelationshipStrength</th><th>MaximumRelationshipStrength</th></tr><tr><td>John</td><td>Mary</td><td>Mary</td><td>1</td><td>1,100000023841858</td><td>1,100000023841858</td><td>1,1</td><td>1,1</td></tr><tr><td>John</td><td>Alice</td><td>Mary-&gt;Alice</td><td>2</td><td>3,600000023841858</td><td>1,800000011920929</td><td>1,1</td><td>2,5</td></tr><tr><td>John</td><td>John</td><td>Mary-&gt;Alice-&gt;John</td><td>3</td><td>3,900000035762787</td><td>1,300000011920929</td><td>0,3</td><td>2,5</td></tr></table>"
                    },
                    "metadata": {}
                }
            ],
            "execution_count": 8
        },
        {
            "cell_type": "markdown",
            "source": [
                "Aby dodać ograniczenia dotyczące którejkolwiek z tych wartości należy użyć zapytania okalającego"
            ],
            "metadata": {
                "language": "sql",
                "azdata_cell_guid": "3d071af9-5a4e-406b-934a-1a8d5c45292c"
            },
            "attachments": {}
        },
        {
            "cell_type": "code",
            "source": [
                "SELECT * FROM (\r\n",
                "SELECT man1.name                                              AS FirstNode\r\n",
                "     , LAST_VALUE(man2.name)        WITHIN GROUP (GRAPH PATH) AS LastNode\r\n",
                "     , STRING_AGG(man2.name, '->')  WITHIN GROUP (GRAPH PATH) AS Path\r\n",
                "     , COUNT(man2.name)             WITHIN GROUP (GRAPH PATH) AS PathLength\r\n",
                "     , SUM(fo.relationshipStrength) WITHIN GROUP (GRAPH PATH) AS RelationshipStrengthDistance\r\n",
                "     , AVG(fo.relationshipStrength) WITHIN GROUP (GRAPH PATH) AS AverageRelationshipStrength\r\n",
                "     , MIN(fo.relationshipStrength) WITHIN GROUP (GRAPH PATH) AS MinimumRelationshipStrength\r\n",
                "     , MAX(fo.relationshipStrength) WITHIN GROUP (GRAPH PATH) AS MaximumRelationshipStrength\r\n",
                "FROM Person            AS man1\r\n",
                "   , friendOf FOR PATH AS fo\r\n",
                "   , Person   FOR PATH AS man2\r\n",
                "WHERE MATCH(SHORTEST_PATH(man1(-(fo)->man2)+))\r\n",
                "AND man1.name = 'John'\r\n",
                ") Q\r\n",
                "WHERE Q.LastNode = 'Alice'"
            ],
            "metadata": {
                "language": "sql",
                "azdata_cell_guid": "a0a6bb1d-86d7-45d1-8d8e-798f47dcf9fa"
            },
            "outputs": [
                {
                    "output_type": "display_data",
                    "data": {
                        "text/html": "(1 row affected)"
                    },
                    "metadata": {}
                },
                {
                    "output_type": "display_data",
                    "data": {
                        "text/html": "Total execution time: 00:00:00.075"
                    },
                    "metadata": {}
                },
                {
                    "output_type": "execute_result",
                    "execution_count": 9,
                    "data": {
                        "application/vnd.dataresource+json": {
                            "schema": {
                                "fields": [
                                    {
                                        "name": "FirstNode"
                                    },
                                    {
                                        "name": "LastNode"
                                    },
                                    {
                                        "name": "Path"
                                    },
                                    {
                                        "name": "PathLength"
                                    },
                                    {
                                        "name": "RelationshipStrengthDistance"
                                    },
                                    {
                                        "name": "AverageRelationshipStrength"
                                    },
                                    {
                                        "name": "MinimumRelationshipStrength"
                                    },
                                    {
                                        "name": "MaximumRelationshipStrength"
                                    }
                                ]
                            },
                            "data": [
                                {
                                    "FirstNode": "John",
                                    "LastNode": "Alice",
                                    "Path": "Mary->Alice",
                                    "PathLength": "2",
                                    "RelationshipStrengthDistance": "3,600000023841858",
                                    "AverageRelationshipStrength": "1,800000011920929",
                                    "MinimumRelationshipStrength": "1,1",
                                    "MaximumRelationshipStrength": "2,5"
                                }
                            ]
                        },
                        "text/html": "<table><tr><th>FirstNode</th><th>LastNode</th><th>Path</th><th>PathLength</th><th>RelationshipStrengthDistance</th><th>AverageRelationshipStrength</th><th>MinimumRelationshipStrength</th><th>MaximumRelationshipStrength</th></tr><tr><td>John</td><td>Alice</td><td>Mary-&gt;Alice</td><td>2</td><td>3,600000023841858</td><td>1,800000011920929</td><td>1,1</td><td>2,5</td></tr></table>"
                    },
                    "metadata": {}
                }
            ],
            "execution_count": 9
        },
        {
            "cell_type": "markdown",
            "source": [
                "Inny przykład: znajdź tylko takie łańcuszki, gdzie siła przyjaźni nie spada poniżej poziomu 1.0"
            ],
            "metadata": {
                "language": "sql",
                "azdata_cell_guid": "b0811a67-f4d4-451d-ade3-bc7e53536f52"
            },
            "attachments": {}
        },
        {
            "cell_type": "code",
            "source": [
                "SELECT * FROM (\r\n",
                "SELECT (man1.name + '->' + STRING_AGG(man2.name, '->')  WITHIN GROUP (GRAPH PATH)) AS Path\r\n",
                "     ,                     MIN(fo.relationshipStrength) WITHIN GROUP (GRAPH PATH)  AS MinimumRelationshipStrength\r\n",
                "FROM Person            AS man1\r\n",
                "   , friendOf FOR PATH AS fo\r\n",
                "   , Person   FOR PATH AS man2\r\n",
                "WHERE MATCH(SHORTEST_PATH(man1(-(fo)->man2)+))\r\n",
                ") Q\r\n",
                "WHERE Q.MinimumRelationshipStrength >= 1.0"
            ],
            "metadata": {
                "language": "sql",
                "azdata_cell_guid": "d6dd3662-4c9d-4265-bdc5-719d93e0146f",
                "tags": []
            },
            "outputs": [
                {
                    "output_type": "display_data",
                    "data": {
                        "text/html": "(5 rows affected)"
                    },
                    "metadata": {}
                },
                {
                    "output_type": "display_data",
                    "data": {
                        "text/html": "Total execution time: 00:00:00.112"
                    },
                    "metadata": {}
                },
                {
                    "output_type": "execute_result",
                    "execution_count": 24,
                    "data": {
                        "application/vnd.dataresource+json": {
                            "schema": {
                                "fields": [
                                    {
                                        "name": "Path"
                                    },
                                    {
                                        "name": "MinimumRelationshipStrength"
                                    }
                                ]
                            },
                            "data": [
                                {
                                    "Path": "John->Mary",
                                    "MinimumRelationshipStrength": "1,1"
                                },
                                {
                                    "Path": "Mary->Alice",
                                    "MinimumRelationshipStrength": "2,5"
                                },
                                {
                                    "Path": "Jacob->Mary",
                                    "MinimumRelationshipStrength": "1,4"
                                },
                                {
                                    "Path": "John->Mary->Alice",
                                    "MinimumRelationshipStrength": "1,1"
                                },
                                {
                                    "Path": "Jacob->Mary->Alice",
                                    "MinimumRelationshipStrength": "1,4"
                                }
                            ]
                        },
                        "text/html": "<table><tr><th>Path</th><th>MinimumRelationshipStrength</th></tr><tr><td>John-&gt;Mary</td><td>1,1</td></tr><tr><td>Mary-&gt;Alice</td><td>2,5</td></tr><tr><td>Jacob-&gt;Mary</td><td>1,4</td></tr><tr><td>John-&gt;Mary-&gt;Alice</td><td>1,1</td></tr><tr><td>Jacob-&gt;Mary-&gt;Alice</td><td>1,4</td></tr></table>"
                    },
                    "metadata": {}
                }
            ],
            "execution_count": 24
        },
        {
            "cell_type": "markdown",
            "source": [
                "W kolejnych przykładach posłużymy się schematem `klient-\\>restauracja\\<-klient-\\>restauracja-\\>...`, aby znaleźć potencjalnie podobne restauracje (załóżmy, że takiej heurystyki chcemy użyć)"
            ],
            "metadata": {
                "language": "sql",
                "azdata_cell_guid": "83c82b53-b8ba-45fa-a35f-36840028479c"
            },
            "attachments": {}
        },
        {
            "cell_type": "code",
            "source": [
                "SELECT man.name, likes.rating, rest.name\r\n",
                "FROM Person man\r\n",
                "   , Restaurant rest\r\n",
                "   , likes\r\n",
                "WHERE MATCH(man-(likes)->rest)\r\n",
                "OR MATCH()"
            ],
            "metadata": {
                "language": "sql",
                "azdata_cell_guid": "ae41dfc4-70a6-4d09-8307-cdf5739ecf0b"
            },
            "outputs": [
                {
                    "output_type": "display_data",
                    "data": {
                        "text/html": "(6 rows affected)"
                    },
                    "metadata": {}
                },
                {
                    "output_type": "display_data",
                    "data": {
                        "text/html": "Total execution time: 00:00:00.033"
                    },
                    "metadata": {}
                },
                {
                    "output_type": "execute_result",
                    "execution_count": 25,
                    "data": {
                        "application/vnd.dataresource+json": {
                            "schema": {
                                "fields": [
                                    {
                                        "name": "name"
                                    },
                                    {
                                        "name": "rating"
                                    },
                                    {
                                        "name": "name"
                                    }
                                ]
                            },
                            "data": [
                                {
                                    "name": "Taco Dell",
                                    "rating": "9"
                                },
                                {
                                    "name": "Ginger and Spice",
                                    "rating": "9"
                                },
                                {
                                    "name": "Noodle Land",
                                    "rating": "9"
                                },
                                {
                                    "name": "Noodle Land",
                                    "rating": "9"
                                },
                                {
                                    "name": "Ginger and Spice",
                                    "rating": "9"
                                },
                                {
                                    "name": "Noodle Land",
                                    "rating": "9"
                                }
                            ]
                        },
                        "text/html": "<table><tr><th>name</th><th>rating</th><th>name</th></tr><tr><td>John</td><td>9</td><td>Taco Dell</td></tr><tr><td>Mary</td><td>9</td><td>Ginger and Spice</td></tr><tr><td>Alice</td><td>9</td><td>Noodle Land</td></tr><tr><td>Jacob</td><td>9</td><td>Noodle Land</td></tr><tr><td>Jacob</td><td>9</td><td>Ginger and Spice</td></tr><tr><td>Julie</td><td>9</td><td>Noodle Land</td></tr></table>"
                    },
                    "metadata": {}
                }
            ],
            "execution_count": 25
        },
        {
            "cell_type": "code",
            "source": [
                "SELECT * FROM (\r\n",
                "SELECT man1.name AS FirstNode\r\n",
                "     , STRING_AGG(N'-'+CONVERT(VARCHAR(4), l1.rating)+'->['+rest.name+']<-'+CONVERT(VARCHAR(4), l2.rating)+'-'+man2.name, '') WITHIN GROUP (GRAPH PATH) AS Path\r\n",
                "     , LAST_VALUE(man2.name) WITHIN GROUP (GRAPH PATH) as LastNode\r\n",
                "FROM Person AS man1\r\n",
                "   , likes FOR PATH AS l1\r\n",
                "   , Restaurant FOR PATH AS rest\r\n",
                "   , likes FOR PATH AS l2\r\n",
                "   , Person FOR PATH as man2 \r\n",
                "WHERE MATCH(SHORTEST_PATH(man1(-(l1)->rest<-(l2)-man2){1,4}))\r\n",
                ") Q WHERE Q.FirstNode <> Q.LastNode"
            ],
            "metadata": {
                "language": "sql",
                "azdata_cell_guid": "4fd106ac-5837-435b-82b0-6a6e287f2ae3"
            },
            "outputs": [
                {
                    "output_type": "display_data",
                    "data": {
                        "text/html": "(6 rows affected)"
                    },
                    "metadata": {}
                },
                {
                    "output_type": "display_data",
                    "data": {
                        "text/html": "Total execution time: 00:00:00.211"
                    },
                    "metadata": {}
                },
                {
                    "output_type": "execute_result",
                    "execution_count": 28,
                    "data": {
                        "application/vnd.dataresource+json": {
                            "schema": {
                                "fields": [
                                    {
                                        "name": "FirstNode"
                                    },
                                    {
                                        "name": "Path"
                                    },
                                    {
                                        "name": "LastNode"
                                    }
                                ]
                            },
                            "data": [
                                {
                                    "0": "Jacob",
                                    "1": "-9->[Noodle Land]<-9-Alice",
                                    "2": "Alice"
                                },
                                {
                                    "0": "Julie",
                                    "1": "-9->[Noodle Land]<-9-Alice",
                                    "2": "Alice"
                                },
                                {
                                    "0": "Alice",
                                    "1": "-9->[Noodle Land]<-9-Jacob",
                                    "2": "Jacob"
                                },
                                {
                                    "0": "Julie",
                                    "1": "-9->[Noodle Land]<-9-Jacob",
                                    "2": "Jacob"
                                },
                                {
                                    "0": "Alice",
                                    "1": "-9->[Noodle Land]<-9-Julie",
                                    "2": "Julie"
                                },
                                {
                                    "0": "Jacob",
                                    "1": "-9->[Noodle Land]<-9-Julie",
                                    "2": "Julie"
                                }
                            ]
                        },
                        "text/html": "<table><tr><th>FirstNode</th><th>Path</th><th>LastNode</th></tr><tr><td>Jacob</td><td>-9-&gt;[Noodle Land]&lt;-9-Alice</td><td>Alice</td></tr><tr><td>Julie</td><td>-9-&gt;[Noodle Land]&lt;-9-Alice</td><td>Alice</td></tr><tr><td>Jacob</td><td>-9-&gt;[Ginger and Spice]&lt;-9-Mary</td><td>Mary</td></tr><tr><td>Jacob</td><td>-9-&gt;[Noodle Land]&lt;-9-Alice</td><td>Alice</td></tr><tr><td>Julie</td><td>-9-&gt;[Noodle Land]&lt;-9-Alice</td><td>Alice</td></tr><tr><td>Mary</td><td>-9-&gt;[Ginger and Spice]&lt;-9-Jacob</td><td>Jacob</td></tr><tr><td>Alice</td><td>-9-&gt;[Noodle Land]&lt;-9-Jacob</td><td>Jacob</td></tr><tr><td>Julie</td><td>-9-&gt;[Noodle Land]&lt;-9-Jacob</td><td>Jacob</td></tr><tr><td>Alice</td><td>-9-&gt;[Noodle Land]&lt;-9-Julie</td><td>Julie</td></tr><tr><td>Jacob</td><td>-9-&gt;[Noodle Land]&lt;-9-Julie</td><td>Julie</td></tr><tr><td>Mary</td><td>-9-&gt;[Taco Dell]&lt;-9-Jacob-9-&gt;[Noodle Land]&lt;-9-Alice</td><td>Alice</td></tr><tr><td>Mary</td><td>-9-&gt;[Taco Dell]&lt;-9-Jacob-9-&gt;[Noodle Land]&lt;-9-Julie</td><td>Julie</td></tr><tr><td>Alice</td><td>-9-&gt;[Taco Dell]&lt;-9-Jacob-9-&gt;[Ginger and Spice]&lt;-9-Mary</td><td>Mary</td></tr><tr><td>Julie</td><td>-9-&gt;[Taco Dell]&lt;-9-Jacob-9-&gt;[Ginger and Spice]&lt;-9-Mary</td><td>Mary</td></tr></table>"
                    },
                    "metadata": {}
                }
            ],
            "execution_count": 28
        },
        {
            "cell_type": "markdown",
            "source": [
                "W czterech ostatnich wierszach mamy krawędź pomiędzy restauracją Taco Dell a Jacobem, która nie powinna się tam znaleźć, jako że nie ma takiej w bazie (możemy to sprawdzić powyżej). Widzimy stąd, że tworzenie bardziej złożonych wzorców niż rekursja jednej krawędzi może produkować niepoprawne wyniki."
            ],
            "metadata": {
                "language": "sql",
                "azdata_cell_guid": "cfdd5b9a-7a2a-4653-a43a-82ffb594d9e2"
            },
            "attachments": {}
        },
        {
            "cell_type": "code",
            "source": [
                "SELECT rest1.name\r\n",
                "     , STRING_AGG(N'-'+CONVERT(VARCHAR(4), l1.rating)+'->['+man.name+']<-'+CONVERT(VARCHAR(4), l2.rating)+'-'+rest2.name, '') WITHIN GROUP (GRAPH PATH) AS Path\r\n",
                "FROM Restaurant AS rest1\r\n",
                "   , likes FOR PATH AS l1\r\n",
                "   , Person FOR PATH AS man\r\n",
                "   , likes FOR PATH AS l2\r\n",
                "   , Restaurant FOR PATH as rest2 \r\n",
                "WHERE MATCH(SHORTEST_PATH(rest1(<-(l1)-man-(l2)->rest2){1,4}))"
            ],
            "metadata": {
                "language": "sql",
                "azdata_cell_guid": "fbf0b4ba-a888-4cd0-8d78-066d3d9e0338",
                "tags": []
            },
            "outputs": [
                {
                    "output_type": "display_data",
                    "data": {
                        "text/html": "(3 rows affected)"
                    },
                    "metadata": {}
                },
                {
                    "output_type": "display_data",
                    "data": {
                        "text/html": "Total execution time: 00:00:00.085"
                    },
                    "metadata": {}
                },
                {
                    "output_type": "execute_result",
                    "execution_count": 17,
                    "data": {
                        "application/vnd.dataresource+json": {
                            "schema": {
                                "fields": [
                                    {
                                        "name": "name"
                                    },
                                    {
                                        "name": "Path"
                                    }
                                ]
                            },
                            "data": [
                                {
                                    "0": "Taco Dell",
                                    "1": "-9->[John]<-9-Taco Dell"
                                },
                                {
                                    "0": "Ginger and Spice",
                                    "1": "-9->[Mary]<-9-Ginger and Spice"
                                },
                                {
                                    "0": "Noodle Land",
                                    "1": "-9->[Alice]<-9-Noodle Land"
                                }
                            ]
                        },
                        "text/html": "<table><tr><th>name</th><th>Path</th></tr><tr><td>Taco Dell</td><td>-9-&gt;[John]&lt;-9-Taco Dell</td></tr><tr><td>Ginger and Spice</td><td>-9-&gt;[Mary]&lt;-9-Ginger and Spice</td></tr><tr><td>Noodle Land</td><td>-9-&gt;[Alice]&lt;-9-Noodle Land</td></tr></table>"
                    },
                    "metadata": {}
                }
            ],
            "execution_count": 17
        },
        {
            "cell_type": "markdown",
            "source": [
                " Ograniczenia `SHORTEST_PATH` mogą być łączone z innymi ograniczeniami grafowymi.\n",
                "\n",
                "W poniższym przykładzie poszukujemy"
            ],
            "metadata": {
                "language": "sql",
                "azdata_cell_guid": "fabb9dd9-8de3-447b-ad5e-669eb55d79d9"
            },
            "attachments": {}
        },
        {
            "cell_type": "code",
            "source": [
                "SELECT\r\n",
                "\tPerson1.name AS PersonName,\r\n",
                "\tSTRING_AGG(Person2.name, '->') WITHIN GROUP (GRAPH PATH) AS Friends,\r\n",
                "\tRestaurant.name\r\n",
                "FROM\r\n",
                "\tPerson AS Person1,\r\n",
                "\tfriendOf FOR PATH AS fo,\r\n",
                "\tPerson FOR PATH  AS Person2,\r\n",
                "\tlikes,\r\n",
                "\tRestaurant\r\n",
                "WHERE MATCH(SHORTEST_PATH(Person1(-(fo)->Person2){1,3}) AND LAST_NODE(Person2)-(likes)->Restaurant )\r\n",
                "AND Person1.name = 'Jacob'\r\n",
                "AND Restaurant.name = 'Ginger and Spice'"
            ],
            "metadata": {
                "language": "sql",
                "azdata_cell_guid": "34e6870b-6259-4e66-9e3e-c7d1f1c1339d"
            },
            "outputs": [],
            "execution_count": null
        },
        {
            "cell_type": "code",
            "source": [
                "DROP TABLE IF EXISTS likes;\r\n",
                "DROP TABLE IF EXISTS Person;\r\n",
                "DROP TABLE IF EXISTS Restaurant;\r\n",
                "DROP TABLE IF EXISTS City;\r\n",
                "DROP TABLE IF EXISTS friendOf;\r\n",
                "DROP TABLE IF EXISTS livesIn;\r\n",
                "DROP TABLE IF EXISTS locatedIn;\r\n",
                "DROP TABLE IF EXISTS Bank;\r\n",
                "DROP TABLE IF EXISTS owesMoney;"
            ],
            "metadata": {
                "language": "sql",
                "azdata_cell_guid": "7143c794-7dd8-4457-884f-09721f704d32"
            },
            "outputs": [
                {
                    "output_type": "display_data",
                    "data": {
                        "text/html": "Commands completed successfully."
                    },
                    "metadata": {}
                },
                {
                    "output_type": "display_data",
                    "data": {
                        "text/html": "Total execution time: 00:00:00.056"
                    },
                    "metadata": {}
                }
            ],
            "execution_count": 2
        }
    ]
}