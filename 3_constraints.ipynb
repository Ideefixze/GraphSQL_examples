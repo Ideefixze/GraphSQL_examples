{
    "metadata": {
        "kernelspec": {
            "name": "SQL",
            "display_name": "SQL",
            "language": "sql"
        },
        "language_info": {
            "name": "sql",
            "version": ""
        }
    },
    "nbformat_minor": 2,
    "nbformat": 4,
    "cells": [
        {
            "cell_type": "code",
            "source": [
                "USE GraphDemo\r\n",
                "GO\r\n",
                ""
            ],
            "metadata": {
                "azdata_cell_guid": "26f8e956-76a9-4c7d-b3e3-188c6f7652fc",
                "language": "sql"
            },
            "outputs": [
                {
                    "output_type": "display_data",
                    "data": {
                        "text/html": "Commands completed successfully."
                    },
                    "metadata": {}
                },
                {
                    "output_type": "display_data",
                    "data": {
                        "text/html": "Total execution time: 00:00:00"
                    },
                    "metadata": {}
                }
            ],
            "execution_count": 9
        },
        {
            "cell_type": "markdown",
            "source": [
                "Domyśnie tabele grafowe nie nakładają ograniczeń na tabele dla źródła i celu krawędzi, co może prowadzić do błędów modelu dancyh.\n",
                "\n",
                "Aby ograniczyć schemat naszej bazy grafowej możemy nałożyć ograniczenia (`CONSTRAINT`) typu `CONNECTION`. Ograniczenie takie możemy nałożyć na tabele krawędziowe, aby określić źródło i cel krawędzi.\n",
                "\n",
                "Przy utworzeniu ograniczenia musimy wybrać akcję przy usunięciu węzła. \n",
                "- Krawędź wiążąca dany węzeł może zostać kaskadowo usunięta\n",
                "- Usunięcie węzła może zostać udaremnione i spowodować błąd\n",
                "\n",
                "Ograniczenia możemy nakładać przy okazji tworzenia nowych tabel:"
            ],
            "metadata": {
                "azdata_cell_guid": "a4c123bc-4f5a-4ab0-84f7-5bc2cb86696a"
            },
            "attachments": {}
        },
        {
            "cell_type": "code",
            "source": [
                "CREATE TABLE visited\r\n",
                "(\r\n",
                "   VisitDate INT\r\n",
                "      ,CONSTRAINT EC_VISITED CONNECTION (Person TO Restaurant) ON DELETE NO ACTION\r\n",
                ")\r\n",
                "AS EDGE;\r\n",
                ""
            ],
            "metadata": {
                "azdata_cell_guid": "829a041c-a6d0-48ba-8a63-b8909463ccc7",
                "language": "sql"
            },
            "outputs": [
                {
                    "output_type": "error",
                    "evalue": "Msg 13931, Level 16, State 1, Line 1\r\nEdge constraint 'EC_VISITED' references invalid table 'Restaurant'.  Table could not be found.",
                    "ename": "",
                    "traceback": []
                },
                {
                    "output_type": "error",
                    "evalue": "Msg 1750, Level 16, State 1, Line 1\r\nCould not create constraint or index. See previous errors.",
                    "ename": "",
                    "traceback": []
                },
                {
                    "output_type": "display_data",
                    "data": {
                        "text/html": "Total execution time: 00:00:00.021"
                    },
                    "metadata": {}
                }
            ],
            "execution_count": 5
        },
        {
            "cell_type": "markdown",
            "source": [
                "lub dodawać do istniejących:"
            ],
            "metadata": {
                "language": "sql",
                "azdata_cell_guid": "e5c55e39-23b8-4b07-9661-85dc466354a4"
            },
            "attachments": {}
        },
        {
            "cell_type": "code",
            "source": [
                "ALTER TABLE friendOf ADD CONSTRAINT EC_FRIEND CONNECTION (Person TO Person);\r\n",
                ""
            ],
            "metadata": {
                "language": "sql",
                "azdata_cell_guid": "0f135e41-6832-492d-bcfa-74816dd83129"
            },
            "outputs": [
                {
                    "output_type": "error",
                    "evalue": "Msg 4902, Level 16, State 1, Line 1\r\nCannot find the object \"friendOf\" because it does not exist or you do not have permissions.",
                    "ename": "",
                    "traceback": []
                },
                {
                    "output_type": "display_data",
                    "data": {
                        "text/html": "Total execution time: 00:00:00.001"
                    },
                    "metadata": {}
                }
            ],
            "execution_count": 6
        },
        {
            "cell_type": "markdown",
            "source": [
                "Jeśli chcemy dodać ograniczenie, które zezwala na skierowanie krawędzi z/do więcej niż jednej tabeli możemy użyć ograniczenia wielokrotnego.\n",
                "\n",
                "**Uwaga!** Jedno ograniczenie wielokrotne to nie to samo co kilka osobnych ograniczeń.\n",
                "\n",
                "Przykładowo poniższa kwerenda wymusi koniunkcję ograniczeń, a w rezultacie uniemożliwi dodanie nowych krawędzi tego typu"
            ],
            "metadata": {
                "language": "sql",
                "azdata_cell_guid": "17f7120e-14ac-4dc4-914f-63f8aaf26f6b"
            },
            "attachments": {}
        },
        {
            "cell_type": "code",
            "source": [
                "ALTER TABLE owesMoney ADD CONSTRAINT EC_OWES_B CONNECTION (Person TO Bank)\r\n",
                "ALTER TABLE owesMoney ADD CONSTRAINT EC_OWES_P CONNECTION (Person TO Person)\r\n",
                ""
            ],
            "metadata": {
                "language": "sql",
                "azdata_cell_guid": "df8a3cf5-f9a3-4950-9ce6-01a61c6ba4d6",
                "tags": []
            },
            "outputs": [
                {
                    "output_type": "display_data",
                    "data": {
                        "text/html": "Commands completed successfully."
                    },
                    "metadata": {}
                },
                {
                    "output_type": "display_data",
                    "data": {
                        "text/html": "Total execution time: 00:00:00.023"
                    },
                    "metadata": {}
                }
            ],
            "execution_count": 14
        },
        {
            "cell_type": "code",
            "source": [
                "INSERT INTO owesMoney VALUEs\r\n",
                "(\r\n",
                "(SELECT $node_id FROM Person WHERE Person.name = 'Jacob'),\r\n",
                "(SELECT $node_id FROM Bank WHERE Bank.name = 'WAW Bank'),\r\n",
                "150\r\n",
                ")\r\n",
                "\r\n",
                "INSERT INTO owesMoney VALUEs\r\n",
                "(\r\n",
                "(SELECT $node_id FROM Person WHERE Person.name = 'Jacob'),\r\n",
                "(SELECT $node_id FROM Person WHERE Person.name = 'Julie'),\r\n",
                "150\r\n",
                ")"
            ],
            "metadata": {
                "language": "sql",
                "azdata_cell_guid": "436c7e6a-5084-4ccf-a7b9-50d456b4f409"
            },
            "outputs": [
                {
                    "output_type": "error",
                    "evalue": "Msg 547, Level 16, State 0, Line 1\r\nThe INSERT statement conflicted with the EDGE constraint \"EC_OWES_P\". The conflict occurred in database \"GraphDemo\", table \"dbo.owesMoney\".",
                    "ename": "",
                    "traceback": []
                },
                {
                    "output_type": "display_data",
                    "data": {
                        "text/html": "The statement has been terminated."
                    },
                    "metadata": {}
                },
                {
                    "output_type": "error",
                    "evalue": "Msg 547, Level 16, State 0, Line 8\r\nThe INSERT statement conflicted with the EDGE constraint \"EC_OWES_B\". The conflict occurred in database \"GraphDemo\", table \"dbo.owesMoney\".",
                    "ename": "",
                    "traceback": []
                },
                {
                    "output_type": "display_data",
                    "data": {
                        "text/html": "The statement has been terminated."
                    },
                    "metadata": {}
                },
                {
                    "output_type": "display_data",
                    "data": {
                        "text/html": "Total execution time: 00:00:00.030"
                    },
                    "metadata": {}
                }
            ],
            "execution_count": 15
        },
        {
            "cell_type": "markdown",
            "source": [
                "SQL Server nie daje możliwości modyfikacji istniejących ograniczeń typu CONNECTION\n",
                "\n",
                "Usuńmy zatem te ograniczenia i zastąpmy je nowym - takim które dopuszcza skierowanie krawędzi do dowolnej z tabel:"
            ],
            "metadata": {
                "language": "sql",
                "azdata_cell_guid": "e2cd429a-dba5-4e63-8d7b-841255d93fca"
            },
            "attachments": {}
        },
        {
            "cell_type": "code",
            "source": [
                "ALTER TABLE owesMoney DROP CONSTRAINT EC_OWES_B\r\n",
                "ALTER TABLE owesMoney DROP CONSTRAINT EC_OWES_P\r\n",
                "\r\n",
                "ALTER TABLE owesMoney ADD CONSTRAINT EC_OWES CONNECTION (Person TO Bank, Person TO Person) ON DELETE NO ACTION -- You can't just doge your debt by removing yourself from the database\r\n",
                ""
            ],
            "metadata": {
                "language": "sql",
                "azdata_cell_guid": "2a0b4d2a-bb05-452d-94b9-4b2947f2c7c8"
            },
            "outputs": [
                {
                    "output_type": "error",
                    "evalue": "Msg 2714, Level 16, State 5, Line 4\r\nThere is already an object named 'EC_OWES' in the database.",
                    "ename": "",
                    "traceback": []
                },
                {
                    "output_type": "error",
                    "evalue": "Msg 1750, Level 16, State 1, Line 4\r\nCould not create constraint or index. See previous errors.",
                    "ename": "",
                    "traceback": []
                },
                {
                    "output_type": "display_data",
                    "data": {
                        "text/html": "Total execution time: 00:00:00.008"
                    },
                    "metadata": {}
                }
            ],
            "execution_count": 16
        },
        {
            "cell_type": "markdown",
            "source": [
                "Listę bieżących ograniczeń możemy wyświetlić za pomocą kwerendy"
            ],
            "metadata": {
                "language": "sql",
                "azdata_cell_guid": "2bce58aa-e36f-46e0-a27d-1378512e39f3"
            },
            "attachments": {}
        },
        {
            "cell_type": "code",
            "source": [
                "SELECT\r\n",
                "   EC.name AS edge_constraint_name\r\n",
                "   , OBJECT_NAME(EC.parent_object_id) AS edge_table_name\r\n",
                "   , OBJECT_NAME(ECC.from_object_id) AS from_node_table_name\r\n",
                "   , OBJECT_NAME(ECC.to_object_id) AS to_node_table_name\r\n",
                "   , is_disabled\r\n",
                "   , is_not_trusted\r\n",
                "FROM sys.edge_constraints EC\r\n",
                "   INNER JOIN sys.edge_constraint_clauses ECC\r\n",
                "   ON EC.object_id = ECC.object_id\r\n",
                "WHERE EC.parent_object_id = object_id('owesMoney');\r\n",
                ""
            ],
            "metadata": {
                "language": "sql",
                "azdata_cell_guid": "9d92720a-d0a0-4cc7-a561-0f9cc6010e7e",
                "tags": []
            },
            "outputs": [
                {
                    "output_type": "display_data",
                    "data": {
                        "text/html": "(2 rows affected)"
                    },
                    "metadata": {}
                },
                {
                    "output_type": "display_data",
                    "data": {
                        "text/html": "Total execution time: 00:00:00.028"
                    },
                    "metadata": {}
                },
                {
                    "output_type": "execute_result",
                    "metadata": {},
                    "execution_count": 17,
                    "data": {
                        "application/vnd.dataresource+json": {
                            "schema": {
                                "fields": [
                                    {
                                        "name": "edge_constraint_name"
                                    },
                                    {
                                        "name": "edge_table_name"
                                    },
                                    {
                                        "name": "from_node_table_name"
                                    },
                                    {
                                        "name": "to_node_table_name"
                                    },
                                    {
                                        "name": "is_disabled"
                                    },
                                    {
                                        "name": "is_not_trusted"
                                    }
                                ]
                            },
                            "data": [
                                {
                                    "edge_constraint_name": "EC_OWES",
                                    "edge_table_name": "owesMoney",
                                    "from_node_table_name": "Person",
                                    "to_node_table_name": "Bank",
                                    "is_disabled": "0",
                                    "is_not_trusted": "0"
                                },
                                {
                                    "edge_constraint_name": "EC_OWES",
                                    "edge_table_name": "owesMoney",
                                    "from_node_table_name": "Person",
                                    "to_node_table_name": "Person",
                                    "is_disabled": "0",
                                    "is_not_trusted": "0"
                                }
                            ]
                        },
                        "text/html": [
                            "<table>",
                            "<tr><th>edge_constraint_name</th><th>edge_table_name</th><th>from_node_table_name</th><th>to_node_table_name</th><th>is_disabled</th><th>is_not_trusted</th></tr>",
                            "<tr><td>EC_OWES</td><td>owesMoney</td><td>Person</td><td>Bank</td><td>0</td><td>0</td></tr>",
                            "<tr><td>EC_OWES</td><td>owesMoney</td><td>Person</td><td>Person</td><td>0</td><td>0</td></tr>",
                            "</table>"
                        ]
                    }
                }
            ],
            "execution_count": 17
        }
    ]
}